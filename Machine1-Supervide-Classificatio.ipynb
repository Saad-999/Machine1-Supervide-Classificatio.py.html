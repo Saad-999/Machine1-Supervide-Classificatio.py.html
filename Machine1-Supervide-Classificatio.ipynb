{
 "cells": [
  {
   "cell_type": "code",
   "execution_count": 31,
   "metadata": {},
   "outputs": [],
   "source": [
    "import numpy as np\n",
    "import pandas as pd\n",
    "import seaborn as sb\n",
    "from sklearn.metrics import classification_report\n",
    "from sklearn.metrics import confusion_matrix\n",
    "from sklearn.ensemble import RandomForestClassifier\n",
    "from sklearn.model_selection import train_test_split\n",
    "from sklearn.preprocessing import StandardScaler\n",
    "from sklearn import preprocessing\n",
    "\n",
    "%matplotlib inline"
   ]
  },
  {
   "cell_type": "code",
   "execution_count": 22,
   "metadata": {},
   "outputs": [],
   "source": [
    "df = pd.read_csv(\"diabetes.csv\")"
   ]
  },
  {
   "cell_type": "code",
   "execution_count": 23,
   "metadata": {},
   "outputs": [
    {
     "data": {
      "text/html": [
       "<div>\n",
       "<style scoped>\n",
       "    .dataframe tbody tr th:only-of-type {\n",
       "        vertical-align: middle;\n",
       "    }\n",
       "\n",
       "    .dataframe tbody tr th {\n",
       "        vertical-align: top;\n",
       "    }\n",
       "\n",
       "    .dataframe thead th {\n",
       "        text-align: right;\n",
       "    }\n",
       "</style>\n",
       "<table border=\"1\" class=\"dataframe\">\n",
       "  <thead>\n",
       "    <tr style=\"text-align: right;\">\n",
       "      <th></th>\n",
       "      <th>Pregnancies</th>\n",
       "      <th>Glucose</th>\n",
       "      <th>BloodPressure</th>\n",
       "      <th>SkinThickness</th>\n",
       "      <th>Insulin</th>\n",
       "      <th>BMI</th>\n",
       "      <th>DiabetesPedigreeFunction</th>\n",
       "      <th>Age</th>\n",
       "      <th>Outcome</th>\n",
       "    </tr>\n",
       "  </thead>\n",
       "  <tbody>\n",
       "    <tr>\n",
       "      <th>0</th>\n",
       "      <td>6</td>\n",
       "      <td>148</td>\n",
       "      <td>72</td>\n",
       "      <td>35</td>\n",
       "      <td>0</td>\n",
       "      <td>33.6</td>\n",
       "      <td>0.627</td>\n",
       "      <td>50</td>\n",
       "      <td>1</td>\n",
       "    </tr>\n",
       "    <tr>\n",
       "      <th>1</th>\n",
       "      <td>1</td>\n",
       "      <td>85</td>\n",
       "      <td>66</td>\n",
       "      <td>29</td>\n",
       "      <td>0</td>\n",
       "      <td>26.6</td>\n",
       "      <td>0.351</td>\n",
       "      <td>31</td>\n",
       "      <td>0</td>\n",
       "    </tr>\n",
       "    <tr>\n",
       "      <th>2</th>\n",
       "      <td>8</td>\n",
       "      <td>183</td>\n",
       "      <td>64</td>\n",
       "      <td>0</td>\n",
       "      <td>0</td>\n",
       "      <td>23.3</td>\n",
       "      <td>0.672</td>\n",
       "      <td>32</td>\n",
       "      <td>1</td>\n",
       "    </tr>\n",
       "    <tr>\n",
       "      <th>3</th>\n",
       "      <td>1</td>\n",
       "      <td>89</td>\n",
       "      <td>66</td>\n",
       "      <td>23</td>\n",
       "      <td>94</td>\n",
       "      <td>28.1</td>\n",
       "      <td>0.167</td>\n",
       "      <td>21</td>\n",
       "      <td>0</td>\n",
       "    </tr>\n",
       "    <tr>\n",
       "      <th>4</th>\n",
       "      <td>0</td>\n",
       "      <td>137</td>\n",
       "      <td>40</td>\n",
       "      <td>35</td>\n",
       "      <td>168</td>\n",
       "      <td>43.1</td>\n",
       "      <td>2.288</td>\n",
       "      <td>33</td>\n",
       "      <td>1</td>\n",
       "    </tr>\n",
       "  </tbody>\n",
       "</table>\n",
       "</div>"
      ],
      "text/plain": [
       "   Pregnancies  Glucose  BloodPressure  SkinThickness  Insulin   BMI  \\\n",
       "0            6      148             72             35        0  33.6   \n",
       "1            1       85             66             29        0  26.6   \n",
       "2            8      183             64              0        0  23.3   \n",
       "3            1       89             66             23       94  28.1   \n",
       "4            0      137             40             35      168  43.1   \n",
       "\n",
       "   DiabetesPedigreeFunction  Age  Outcome  \n",
       "0                     0.627   50        1  \n",
       "1                     0.351   31        0  \n",
       "2                     0.672   32        1  \n",
       "3                     0.167   21        0  \n",
       "4                     2.288   33        1  "
      ]
     },
     "execution_count": 23,
     "metadata": {},
     "output_type": "execute_result"
    }
   ],
   "source": [
    "df.head()# To show the first 5 elements"
   ]
  },
  {
   "cell_type": "code",
   "execution_count": 24,
   "metadata": {},
   "outputs": [],
   "source": [
    "columns = ['Pregnancies', 'Glucose', 'BloodPressure', 'SkinThickness', 'Insulin', 'BMI', 'DiabetesPedigreeFunction', 'Age']\n",
    "labels = df['Outcome'].values\n",
    "features = df[list(columns)].values"
   ]
  },
  {
   "cell_type": "code",
   "execution_count": null,
   "metadata": {},
   "outputs": [],
   "source": [
    "#columen:Add all the name of columns\n",
    "#Lables: To spreat the outcome of columens to show its value(0 and 1)\n",
    "#Features: To take just the values of columen without their name"
   ]
  },
  {
   "cell_type": "code",
   "execution_count": 25,
   "metadata": {},
   "outputs": [
    {
     "data": {
      "text/plain": [
       "array([1, 0, 1, 0, 1, 0, 1, 0, 1, 1, 0, 1, 0, 1, 1, 1, 1, 1, 0, 1, 0, 0,\n",
       "       1, 1, 1, 1, 1, 0, 0, 0, 0, 1, 0, 0, 0, 0, 0, 1, 1, 1, 0, 0, 0, 1,\n",
       "       0, 1, 0, 0, 1, 0, 0, 0, 0, 1, 0, 0, 1, 0, 0, 0, 0, 1, 0, 0, 1, 0,\n",
       "       1, 0, 0, 0, 1, 0, 1, 0, 0, 0, 0, 0, 1, 0, 0, 0, 0, 0, 1, 0, 0, 0,\n",
       "       1, 0, 0, 0, 0, 1, 0, 0, 0, 0, 0, 1, 1, 0, 0, 0, 0, 0, 0, 0, 0, 1,\n",
       "       1, 1, 0, 0, 1, 1, 1, 0, 0, 0, 1, 0, 0, 0, 1, 1, 0, 0, 1, 1, 1, 1,\n",
       "       1, 0, 0, 0, 0, 0, 0, 0, 0, 0, 0, 1, 0, 0, 0, 0, 0, 0, 0, 0, 1, 0,\n",
       "       1, 1, 0, 0, 0, 1, 0, 0, 0, 0, 1, 1, 0, 0, 0, 0, 1, 1, 0, 0, 0, 1,\n",
       "       0, 1, 0, 1, 0, 0, 0, 0, 0, 1, 1, 1, 1, 1, 0, 0, 1, 1, 0, 1, 0, 1,\n",
       "       1, 1, 0, 0, 0, 0, 0, 0, 1, 1, 0, 1, 0, 0, 0, 1, 1, 1, 1, 0, 1, 1,\n",
       "       1, 1, 0, 0, 0, 0, 0, 1, 0, 0, 1, 1, 0, 0, 0, 1, 1, 1, 1, 0, 0, 0,\n",
       "       1, 1, 0, 1, 0, 0, 0, 0, 0, 0, 0, 0, 1, 1, 0, 0, 0, 1, 0, 1, 0, 0,\n",
       "       1, 0, 1, 0, 0, 1, 1, 0, 0, 0, 0, 0, 1, 0, 0, 0, 1, 0, 0, 1, 1, 0,\n",
       "       0, 1, 0, 0, 0, 1, 1, 1, 0, 0, 1, 0, 1, 0, 1, 1, 0, 1, 0, 0, 1, 0,\n",
       "       1, 1, 0, 0, 1, 0, 1, 0, 0, 1, 0, 1, 0, 1, 1, 1, 0, 0, 1, 0, 1, 0,\n",
       "       0, 0, 1, 0, 0, 0, 0, 1, 1, 1, 0, 0, 0, 0, 0, 0, 0, 0, 0, 1, 0, 0,\n",
       "       0, 0, 0, 1, 1, 1, 0, 1, 1, 0, 0, 1, 0, 0, 1, 0, 0, 1, 1, 0, 0, 0,\n",
       "       0, 1, 0, 0, 1, 0, 0, 0, 0, 0, 0, 0, 1, 1, 1, 0, 0, 1, 0, 0, 1, 0,\n",
       "       0, 1, 0, 1, 1, 0, 1, 0, 1, 0, 1, 0, 1, 1, 0, 0, 0, 0, 1, 1, 0, 1,\n",
       "       0, 1, 0, 0, 0, 0, 1, 1, 0, 1, 0, 1, 0, 0, 0, 0, 0, 1, 0, 0, 0, 0,\n",
       "       1, 0, 0, 1, 1, 1, 0, 0, 1, 0, 0, 1, 0, 0, 0, 1, 0, 0, 1, 0, 0, 0,\n",
       "       0, 0, 0, 0, 0, 0, 1, 0, 0, 0, 0, 0, 0, 0, 1, 0, 0, 0, 1, 0, 0, 0,\n",
       "       1, 1, 0, 0, 0, 0, 0, 0, 0, 1, 0, 0, 0, 0, 1, 0, 0, 0, 1, 0, 0, 0,\n",
       "       1, 0, 0, 0, 1, 0, 0, 0, 0, 1, 1, 0, 0, 0, 0, 0, 0, 1, 0, 0, 0, 0,\n",
       "       0, 0, 0, 0, 0, 0, 0, 1, 0, 0, 0, 1, 1, 1, 1, 0, 0, 1, 1, 0, 0, 0,\n",
       "       0, 0, 0, 0, 0, 0, 0, 0, 0, 0, 1, 1, 0, 0, 0, 0, 0, 0, 0, 1, 0, 0,\n",
       "       0, 0, 0, 0, 0, 1, 0, 1, 1, 0, 0, 0, 1, 0, 1, 0, 1, 0, 1, 0, 1, 0,\n",
       "       0, 1, 0, 0, 1, 0, 0, 0, 0, 1, 1, 0, 1, 0, 0, 0, 0, 1, 1, 0, 1, 0,\n",
       "       0, 0, 1, 1, 0, 0, 0, 0, 0, 0, 0, 0, 0, 0, 1, 0, 0, 0, 0, 1, 0, 0,\n",
       "       1, 0, 0, 0, 1, 0, 0, 0, 1, 1, 1, 0, 0, 0, 0, 0, 0, 1, 0, 0, 0, 1,\n",
       "       0, 1, 1, 1, 1, 0, 1, 1, 0, 0, 0, 0, 0, 0, 0, 1, 1, 0, 1, 0, 0, 1,\n",
       "       0, 1, 0, 0, 0, 0, 0, 1, 0, 1, 0, 1, 0, 1, 1, 0, 0, 0, 0, 1, 1, 0,\n",
       "       0, 0, 1, 0, 1, 1, 0, 0, 1, 0, 0, 1, 1, 0, 0, 1, 0, 0, 1, 0, 0, 0,\n",
       "       0, 0, 0, 0, 1, 1, 1, 0, 0, 0, 0, 0, 0, 1, 1, 0, 0, 1, 0, 0, 1, 0,\n",
       "       1, 1, 1, 0, 0, 1, 1, 1, 0, 1, 0, 1, 0, 1, 0, 0, 0, 0, 1, 0])"
      ]
     },
     "execution_count": 25,
     "metadata": {},
     "output_type": "execute_result"
    }
   ],
   "source": [
    "labels\n",
    "# To see the value of outcome"
   ]
  },
  {
   "cell_type": "code",
   "execution_count": 26,
   "metadata": {},
   "outputs": [
    {
     "data": {
      "text/plain": [
       "array([[  6.   , 148.   ,  72.   , ...,  33.6  ,   0.627,  50.   ],\n",
       "       [  1.   ,  85.   ,  66.   , ...,  26.6  ,   0.351,  31.   ],\n",
       "       [  8.   , 183.   ,  64.   , ...,  23.3  ,   0.672,  32.   ],\n",
       "       ...,\n",
       "       [  5.   , 121.   ,  72.   , ...,  26.2  ,   0.245,  30.   ],\n",
       "       [  1.   , 126.   ,  60.   , ...,  30.1  ,   0.349,  47.   ],\n",
       "       [  1.   ,  93.   ,  70.   , ...,  30.4  ,   0.315,  23.   ]])"
      ]
     },
     "execution_count": 26,
     "metadata": {},
     "output_type": "execute_result"
    }
   ],
   "source": [
    "features\n",
    "# To see the value of columen"
   ]
  },
  {
   "cell_type": "code",
   "execution_count": 32,
   "metadata": {},
   "outputs": [],
   "source": [
    "from sklearn.ensemble import RandomForestClassifier #Used RandomForestClassifier to classifier\n",
    "from sklearn.model_selection import train_test_split # This method to do train and test"
   ]
  },
  {
   "cell_type": "code",
   "execution_count": 33,
   "metadata": {},
   "outputs": [],
   "source": [
    "X_train, X_test, y_train, y_test = train_test_split(features, labels, test_size=0.30)\n",
    "# 0.30 fot test\n",
    "#0.70 for train\n",
    "#x=feature\n",
    "#y= labels\n"
   ]
  },
  {
   "cell_type": "code",
   "execution_count": 34,
   "metadata": {},
   "outputs": [],
   "source": [
    "clf = RandomForestClassifier(n_estimators=1)\n",
    "clf = clf.fit(X_train, y_train)\n",
    "# n_estimators=1 (improve the performance)"
   ]
  },
  {
   "cell_type": "code",
   "execution_count": 36,
   "metadata": {},
   "outputs": [
    {
     "name": "stdout",
     "output_type": "stream",
     "text": [
      "87.33705772811918\n"
     ]
    }
   ],
   "source": [
    "accuracy = clf.score(X_train, y_train)\n",
    "print (accuracy*100)\n",
    "# Accurace for train      الدقة للتدريب"
   ]
  },
  {
   "cell_type": "code",
   "execution_count": 38,
   "metadata": {},
   "outputs": [
    {
     "name": "stdout",
     "output_type": "stream",
     "text": [
      "68.3982683982684\n"
     ]
    }
   ],
   "source": [
    "accuracy = clf.score(X_test, y_test)\n",
    "print (accuracy*100)\n",
    "# # Accurace for test      الدقة للاختبار"
   ]
  },
  {
   "cell_type": "code",
   "execution_count": 41,
   "metadata": {},
   "outputs": [
    {
     "name": "stdout",
     "output_type": "stream",
     "text": [
      "\n",
      "Training classification report\n",
      "              precision    recall  f1-score   support\n",
      "\n",
      "          0       0.90      0.91      0.90       348\n",
      "          1       0.83      0.81      0.82       189\n",
      "\n",
      "avg / total       0.87      0.87      0.87       537\n",
      "\n"
     ]
    }
   ],
   "source": [
    "from sklearn.metrics import classification_report\n",
    "from sklearn.metrics import confusion_matrix\n",
    "\n",
    "ypredict = clf.predict(X_train)\n",
    "print ('\\nTraining classification report\\n', classification_report(y_train, ypredict))"
   ]
  },
  {
   "cell_type": "code",
   "execution_count": 42,
   "metadata": {},
   "outputs": [
    {
     "name": "stdout",
     "output_type": "stream",
     "text": [
      "\n",
      " Confusion matrix of training \n",
      " [[316  32]\n",
      " [ 36 153]]\n"
     ]
    }
   ],
   "source": [
    "print (\"\\n Confusion matrix of training \\n\", confusion_matrix(y_train, ypredict))\n"
   ]
  },
  {
   "cell_type": "code",
   "execution_count": 43,
   "metadata": {},
   "outputs": [
    {
     "name": "stdout",
     "output_type": "stream",
     "text": [
      "\n",
      "Training classification report\n",
      "              precision    recall  f1-score   support\n",
      "\n",
      "          0       0.74      0.80      0.77       152\n",
      "          1       0.55      0.46      0.50        79\n",
      "\n",
      "avg / total       0.67      0.68      0.68       231\n",
      "\n",
      "\n",
      " Confusion matrix of training \n",
      " [[122  30]\n",
      " [ 43  36]]\n"
     ]
    }
   ],
   "source": [
    "ypredict = clf.predict(X_test)\n",
    "print ('\\nTraining classification report\\n', classification_report(y_test, ypredict))\n",
    "print (\"\\n Confusion matrix of training \\n\", confusion_matrix(y_test, ypredict))\n",
    "\n",
    "\n",
    "\n",
    "# 0 is class1 or positive\n",
    "# 1 is class1 or nigative\n",
    "# precision is accuracy for classes 0 and 1\n",
    "# recall is like sensitivity for classifier"
   ]
  },
  {
   "cell_type": "code",
   "execution_count": 45,
   "metadata": {},
   "outputs": [
    {
     "name": "stdout",
     "output_type": "stream",
     "text": [
      "\n",
      "Training classification report\n",
      "              precision    recall  f1-score   support\n",
      "\n",
      "          0       0.90      0.91      0.90       348\n",
      "          1       0.83      0.81      0.82       189\n",
      "\n",
      "avg / total       0.87      0.87      0.87       537\n",
      "\n"
     ]
    }
   ],
   "source": [
    "from sklearn.metrics import classification_report\n",
    "from sklearn.metrics import confusion_matrix\n",
    "\n",
    "ypredict = clf.predict(X_train)\n",
    "print ('\\nTraining classification report\\n', classification_report(y_train, ypredict))\n",
    "\n",
    "\n",
    "# To evaluation the classifer by report for trainang\n",
    "# classification_report is function\n",
    "# 573 simles that are used in Training "
   ]
  },
  {
   "cell_type": "code",
   "execution_count": 46,
   "metadata": {},
   "outputs": [
    {
     "name": "stdout",
     "output_type": "stream",
     "text": [
      "\n",
      " Confusion matrix of training \n",
      " [[316  32]\n",
      " [ 36 153]]\n"
     ]
    }
   ],
   "source": [
    "print (\"\\n Confusion matrix of training \\n\", confusion_matrix(y_train, ypredict))\n",
    "\n",
    "# To evaluation the classifer by matrix for training\n",
    "# 316 and 153 are correect simple\n",
    "# 32 and 36 are incorrect\n"
   ]
  },
  {
   "cell_type": "code",
   "execution_count": 49,
   "metadata": {},
   "outputs": [
    {
     "name": "stdout",
     "output_type": "stream",
     "text": [
      "\n",
      "Test classification report\n",
      "              precision    recall  f1-score   support\n",
      "\n",
      "          0       0.74      0.80      0.77       152\n",
      "          1       0.55      0.46      0.50        79\n",
      "\n",
      "avg / total       0.67      0.68      0.68       231\n",
      "\n"
     ]
    }
   ],
   "source": [
    "from sklearn.metrics import classification_report\n",
    "from sklearn.metrics import confusion_matrix\n",
    "\n",
    "ypredict = clf.predict(X_test)\n",
    "print ('\\nTest classification report\\n', classification_report(y_test, ypredict))\n",
    "\n",
    "\n",
    "# To evaluation the classifer by report for test\n",
    "# classification_report is function\n",
    "# 573 simles that are used in Test\n",
    "\n",
    "# The accuarse for class 0 is bigger than class 1, so there is precision    فيه انحياز"
   ]
  },
  {
   "cell_type": "code",
   "execution_count": 50,
   "metadata": {
    "scrolled": true
   },
   "outputs": [
    {
     "name": "stdout",
     "output_type": "stream",
     "text": [
      "\n",
      " Confusion matrix of testing \n",
      " [[122  30]\n",
      " [ 43  36]]\n"
     ]
    }
   ],
   "source": [
    "print (\"\\n Confusion matrix of testing \\n\", confusion_matrix(y_test, ypredict))\n",
    "\n",
    "# To evaluation the classifer by matrix for testing\n",
    "# 122 and 30 are correect simple\n",
    "# 43 and 361 are incorrect\n",
    "\n"
   ]
  },
  {
   "cell_type": "markdown",
   "metadata": {},
   "source": [
    "# To check for data to improve the classifer\n",
    "\n",
    "1- Use the def.info(): to desciver if ther is any miss data\n",
    "2- Use the Sebron library to make distrribution for data"
   ]
  },
  {
   "cell_type": "code",
   "execution_count": 52,
   "metadata": {},
   "outputs": [
    {
     "name": "stdout",
     "output_type": "stream",
     "text": [
      "<class 'pandas.core.frame.DataFrame'>\n",
      "RangeIndex: 768 entries, 0 to 767\n",
      "Data columns (total 9 columns):\n",
      "Pregnancies                 768 non-null int64\n",
      "Glucose                     768 non-null int64\n",
      "BloodPressure               768 non-null int64\n",
      "SkinThickness               768 non-null int64\n",
      "Insulin                     768 non-null int64\n",
      "BMI                         768 non-null float64\n",
      "DiabetesPedigreeFunction    768 non-null float64\n",
      "Age                         768 non-null int64\n",
      "Outcome                     768 non-null int64\n",
      "dtypes: float64(2), int64(7)\n",
      "memory usage: 54.1 KB\n"
     ]
    }
   ],
   "source": [
    "df.info()\n",
    "\n",
    "# We do not have any null data.\n",
    "#Also, it shows the type data"
   ]
  },
  {
   "cell_type": "code",
   "execution_count": 53,
   "metadata": {},
   "outputs": [
    {
     "data": {
      "text/plain": [
       "<matplotlib.axes._subplots.AxesSubplot at 0x1a22e1d0b8>"
      ]
     },
     "execution_count": 53,
     "metadata": {},
     "output_type": "execute_result"
    },
    {
     "data": {
      "image/png": "[encoded data removed]",
      "text/plain": [
       "<Figure size 432x288 with 1 Axes>"
      ]
     },
     "metadata": {
      "needs_background": "light"
     },
     "output_type": "display_data"
    }
   ],
   "source": [
    "sb.countplot(x='Outcome',data=df, palette='hls')\n",
    "\n",
    "# This diagram shows the class 0 clears the pupol who do not have any diabetes(500), but class 1 shows the pupol who have diabetes(200)\n",
    "# X = outcome(0,1)\n",
    "# df = data frame\n",
    "#hls = the type of graph"
   ]
  },
  {
   "cell_type": "code",
   "execution_count": 55,
   "metadata": {},
   "outputs": [
    {
     "data": {
      "text/plain": [
       "<matplotlib.axes._subplots.AxesSubplot at 0x1a2322a710>"
      ]
     },
     "execution_count": 55,
     "metadata": {},
     "output_type": "execute_result"
    },
    {
     "data": {
      "image/png": "[encoded data removed]",
      "text/plain": [
       "<Figure size 432x288 with 1 Axes>"
      ]
     },
     "metadata": {
      "needs_background": "light"
     },
     "output_type": "display_data"
    }
   ],
   "source": [
    "sb.countplot(x='Age',data=df, palette='hls')\n",
    "# shows for Age"
   ]
  },
  {
   "cell_type": "code",
   "execution_count": 56,
   "metadata": {
    "scrolled": true
   },
   "outputs": [
    {
     "data": {
      "text/plain": [
       "<matplotlib.axes._subplots.AxesSubplot at 0x1a233af4e0>"
      ]
     },
     "execution_count": 56,
     "metadata": {},
     "output_type": "execute_result"
    },
    {
     "data": {
      "image/png": "[encoded data removed]",
      "text/plain": [
       "<Figure size 432x288 with 2 Axes>"
      ]
     },
     "metadata": {
      "needs_background": "light"
     },
     "output_type": "display_data"
    }
   ],
   "source": [
    "sb.heatmap(df.corr())\n",
    "# shows for the properties which depend on other properties\n"
   ]
  },
  {
   "cell_type": "markdown",
   "metadata": {},
   "source": [
    "#  To check for data to improve the classifer By standard Scaler\n",
    "\n",
    "1-Use the sci -kit learn <3 (It is a library)"
   ]
  },
  {
   "cell_type": "code",
   "execution_count": 60,
   "metadata": {},
   "outputs": [
    {
     "name": "stdout",
     "output_type": "stream",
     "text": [
      " اداء النموذج في عينة التدريب بدقة  89.3854748603352\n",
      " اداء النموذج في عينة الفحص بدقة  68.3982683982684\n",
      "\n",
      " Training classification report\n",
      "              precision    recall  f1-score   support\n",
      "\n",
      "          0       0.92      0.92      0.92       347\n",
      "          1       0.85      0.85      0.85       190\n",
      "\n",
      "avg / total       0.89      0.89      0.89       537\n",
      "\n",
      "\n",
      " Confusion matrix of training \n",
      " [[319  28]\n",
      " [ 29 161]]\n",
      "\n",
      " Testing classification report\n",
      "              precision    recall  f1-score   support\n",
      "\n",
      "          0       0.80      0.70      0.75       153\n",
      "          1       0.53      0.65      0.58        78\n",
      "\n",
      "avg / total       0.71      0.68      0.69       231\n",
      "\n",
      "\n",
      " Confusion matrix of Testing \n",
      " [[107  46]\n",
      " [ 27  51]]\n"
     ]
    }
   ],
   "source": [
    "columns = ['Pregnancies', 'Glucose', 'BloodPressure', 'SkinThickness', 'Insulin', 'BMI', 'DiabetesPedigreeFunction', 'Age']\n",
    "labels = df['Outcome'].values\n",
    "features = df[list(columns)].values\n",
    "\n",
    "X_train, X_test, y_train, y_test = train_test_split(features, labels, test_size=0.30)\n",
    "\n",
    "clf = RandomForestClassifier(n_estimators=1)\n",
    "clf = clf.fit(X_train, y_train)\n",
    "\n",
    "accuracy = clf.score(X_train, y_train)\n",
    "print (' اداء النموذج في عينة التدريب بدقة ', accuracy*100)\n",
    "\n",
    "accuracy = clf.score(X_test, y_test)\n",
    "print (' اداء النموذج في عينة الفحص بدقة ', accuracy*100)\n",
    "\n",
    "ypredict = clf.predict(X_train)\n",
    "print ('\\n Training classification report\\n', classification_report(y_train, ypredict))\n",
    "print (\"\\n Confusion matrix of training \\n\", confusion_matrix(y_train, ypredict))\n",
    "\n",
    "ypredict = clf.predict(X_test)\n",
    "print ('\\n Testing classification report\\n', classification_report(y_test, ypredict))\n",
    "print (\"\\n Confusion matrix of Testing \\n\", confusion_matrix(y_test, ypredict))"
   ]
  },
  {
   "cell_type": "markdown",
   "metadata": {},
   "source": [
    "#  standard scaler\n"
   ]
  },
  {
   "cell_type": "code",
   "execution_count": 62,
   "metadata": {},
   "outputs": [],
   "source": [
    "#scaling\n",
    "scaler = StandardScaler()\n",
    "\n",
    "# Fit only on training data\n",
    "scaler.fit(X_train)\n",
    "X_train = scaler.transform(X_train)\n",
    "# apply same transformation to test data\n",
    "X_test = scaler.transform(X_test)"
   ]
  },
  {
   "cell_type": "code",
   "execution_count": 65,
   "metadata": {},
   "outputs": [
    {
     "name": "stdout",
     "output_type": "stream",
     "text": [
      " اداء النموذج في عينة التدريب بدقة  87.52327746741155\n",
      " اداء النموذج في عينة الفحص بدقة  70.995670995671\n",
      "\n",
      " Training classification report\n",
      "              precision    recall  f1-score   support\n",
      "\n",
      "          0       0.91      0.90      0.90       355\n",
      "          1       0.80      0.84      0.82       182\n",
      "\n",
      "avg / total       0.88      0.88      0.88       537\n",
      "\n",
      "\n",
      " Confusion matrix of training \n",
      " [[318  37]\n",
      " [ 30 152]]\n",
      "\n",
      " Testing classification report\n",
      "              precision    recall  f1-score   support\n",
      "\n",
      "          0       0.75      0.80      0.78       145\n",
      "          1       0.62      0.56      0.59        86\n",
      "\n",
      "avg / total       0.70      0.71      0.71       231\n",
      "\n",
      "\n",
      " Confusion matrix of Testing \n",
      " [[116  29]\n",
      " [ 38  48]]\n"
     ]
    }
   ],
   "source": [
    "clf = RandomForestClassifier(n_estimators=1)\n",
    "clf = clf.fit(X_train, y_train)\n",
    "\n",
    "accuracy = clf.score(X_train, y_train)\n",
    "print (' اداء النموذج في عينة التدريب بدقة ', accuracy*100)\n",
    "\n",
    "accuracy = clf.score(X_test, y_test)\n",
    "print (' اداء النموذج في عينة الفحص بدقة ', accuracy*100)\n",
    "\n",
    "ypredict = clf.predict(X_train)\n",
    "print ('\\n Training classification report\\n', classification_report(y_train, ypredict))\n",
    "print (\"\\n Confusion matrix of training \\n\", confusion_matrix(y_train, ypredict))\n",
    "\n",
    "ypredict = clf.predict(X_test)\n",
    "print ('\\n Testing classification report\\n', classification_report(y_test, ypredict))\n",
    "print (\"\\n Confusion matrix of Testing \\n\", confusion_matrix(y_test, ypredict))"
   ]
  },
  {
   "cell_type": "markdown",
   "metadata": {},
   "source": [
    "# In the standard scaler: there is huge different between training(87.52327746741155) and testing(70.995670995671) simples, we should anotyher way or method to fix this difference."
   ]
  },
  {
   "cell_type": "markdown",
   "metadata": {},
   "source": [
    "# To check for data to improve the classifer By min-max scaler"
   ]
  },
  {
   "cell_type": "code",
   "execution_count": 66,
   "metadata": {},
   "outputs": [
    {
     "name": "stdout",
     "output_type": "stream",
     "text": [
      " اداء النموذج في عينة التدريب بدقة  87.89571694599627\n",
      " اداء النموذج في عينة الفحص بدقة  68.83116883116884\n",
      "\n",
      " Training classification report\n",
      "              precision    recall  f1-score   support\n",
      "\n",
      "          0       0.90      0.92      0.91       357\n",
      "          1       0.84      0.79      0.81       180\n",
      "\n",
      "avg / total       0.88      0.88      0.88       537\n",
      "\n",
      "\n",
      " Confusion matrix of training \n",
      " [[330  27]\n",
      " [ 38 142]]\n",
      "\n",
      " Testing classification report\n",
      "              precision    recall  f1-score   support\n",
      "\n",
      "          0       0.73      0.79      0.76       143\n",
      "          1       0.61      0.52      0.56        88\n",
      "\n",
      "avg / total       0.68      0.69      0.68       231\n",
      "\n",
      "\n",
      " Confusion matrix of Testing \n",
      " [[113  30]\n",
      " [ 42  46]]\n"
     ]
    }
   ],
   "source": [
    "columns = ['Pregnancies', 'Glucose', 'BloodPressure', 'SkinThickness', 'Insulin', 'BMI', 'DiabetesPedigreeFunction', 'Age']\n",
    "labels = df['Outcome'].values\n",
    "features = df[list(columns)].values\n",
    "\n",
    "X_train, X_test, y_train, y_test = train_test_split(features, labels, test_size=0.30)\n",
    "\n",
    "scaler = preprocessing.MinMaxScaler()\n",
    "\n",
    "scaler.fit(X_train)\n",
    "X_train = scaler.transform(X_train)\n",
    "# apply same transformation to test data\n",
    "X_test = scaler.transform(X_test)\n",
    "\n",
    "clf = RandomForestClassifier(n_estimators=1)\n",
    "clf = clf.fit(X_train, y_train)\n",
    "\n",
    "accuracy = clf.score(X_train, y_train)\n",
    "print (' اداء النموذج في عينة التدريب بدقة ', accuracy*100)\n",
    "\n",
    "accuracy = clf.score(X_test, y_test)\n",
    "print (' اداء النموذج في عينة الفحص بدقة ', accuracy*100)\n",
    "\n",
    "ypredict = clf.predict(X_train)\n",
    "print ('\\n Training classification report\\n', classification_report(y_train, ypredict))\n",
    "print (\"\\n Confusion matrix of training \\n\", confusion_matrix(y_train, ypredict))\n",
    "\n",
    "ypredict = clf.predict(X_test)\n",
    "print ('\\n Testing classification report\\n', classification_report(y_test, ypredict))\n",
    "print (\"\\n Confusion matrix of Testing \\n\", confusion_matrix(y_test, ypredict))"
   ]
  },
  {
   "cell_type": "markdown",
   "metadata": {},
   "source": [
    "#  Also, In min-max scaler: there is huge different between training(87.89571694599626) and testing(68.83116883116884) simples, we should find anotyher algorithem or method to fix this difference."
   ]
  },
  {
   "cell_type": "markdown",
   "metadata": {},
   "source": [
    "# Used RandomForest"
   ]
  },
  {
   "cell_type": "code",
   "execution_count": 68,
   "metadata": {},
   "outputs": [
    {
     "name": "stdout",
     "output_type": "stream",
     "text": [
      " اداء النموذج في عينة التدريب بدقة  88.45437616387338\n",
      " اداء النموذج في عينة الفحص بدقة  64.93506493506493\n",
      "\n",
      " Training classification report\n",
      "              precision    recall  f1-score   support\n",
      "\n",
      "          0       0.91      0.92      0.91       356\n",
      "          1       0.83      0.82      0.83       181\n",
      "\n",
      "avg / total       0.88      0.88      0.88       537\n",
      "\n",
      "\n",
      " Confusion matrix of training \n",
      " [[326  30]\n",
      " [ 32 149]]\n",
      "\n",
      " Testing classification report\n",
      "              precision    recall  f1-score   support\n",
      "\n",
      "          0       0.73      0.69      0.71       144\n",
      "          1       0.53      0.59      0.56        87\n",
      "\n",
      "avg / total       0.66      0.65      0.65       231\n",
      "\n",
      "\n",
      " Confusion matrix of Testing \n",
      " [[99 45]\n",
      " [36 51]]\n"
     ]
    }
   ],
   "source": [
    "columns = ['Pregnancies', 'Glucose', 'BloodPressure', 'SkinThickness', 'Insulin', 'BMI', 'DiabetesPedigreeFunction', 'Age']\n",
    "labels = df['Outcome'].values\n",
    "features = df[list(columns)].values\n",
    "\n",
    "X_train, X_test, y_train, y_test = train_test_split(features, labels, test_size=0.30)\n",
    "\n",
    "clf = RandomForestClassifier(n_estimators=1)\n",
    "clf = clf.fit(X_train, y_train)\n",
    "\n",
    "accuracy = clf.score(X_train, y_train)\n",
    "print (' اداء النموذج في عينة التدريب بدقة ', accuracy*100)\n",
    "\n",
    "accuracy = clf.score(X_test, y_test)\n",
    "print (' اداء النموذج في عينة الفحص بدقة ', accuracy*100)\n",
    "\n",
    "ypredict = clf.predict(X_train)\n",
    "print ('\\n Training classification report\\n', classification_report(y_train, ypredict))\n",
    "print (\"\\n Confusion matrix of training \\n\", confusion_matrix(y_train, ypredict))\n",
    "\n",
    "ypredict = clf.predict(X_test)\n",
    "print ('\\n Testing classification report\\n', classification_report(y_test, ypredict))\n",
    "print (\"\\n Confusion matrix of Testing \\n\", confusion_matrix(y_test, ypredict))"
   ]
  },
  {
   "cell_type": "code",
   "execution_count": null,
   "metadata": {},
   "outputs": [],
   "source": [
    "# The trining is rised(88.4543761638733), but the testing is bad rate"
   ]
  },
  {
   "cell_type": "markdown",
   "metadata": {},
   "source": [
    "# Let's chinge the number of n_estimators=1 to n_estimators=6"
   ]
  },
  {
   "cell_type": "code",
   "execution_count": 69,
   "metadata": {},
   "outputs": [
    {
     "name": "stdout",
     "output_type": "stream",
     "text": [
      " اداء النموذج في عينة التدريب بدقة  96.2756052141527\n",
      " اداء النموذج في عينة الفحص بدقة  74.02597402597402\n",
      "\n",
      " Training classification report\n",
      "              precision    recall  f1-score   support\n",
      "\n",
      "          0       0.96      0.99      0.97       345\n",
      "          1       0.98      0.92      0.95       192\n",
      "\n",
      "avg / total       0.96      0.96      0.96       537\n",
      "\n",
      "\n",
      " Confusion matrix of training \n",
      " [[341   4]\n",
      " [ 16 176]]\n",
      "\n",
      " Testing classification report\n",
      "              precision    recall  f1-score   support\n",
      "\n",
      "          0       0.78      0.85      0.81       155\n",
      "          1       0.62      0.53      0.57        76\n",
      "\n",
      "avg / total       0.73      0.74      0.73       231\n",
      "\n",
      "\n",
      " Confusion matrix of Testing \n",
      " [[131  24]\n",
      " [ 36  40]]\n"
     ]
    }
   ],
   "source": [
    "columns = ['Pregnancies', 'Glucose', 'BloodPressure', 'SkinThickness', 'Insulin', 'BMI', 'DiabetesPedigreeFunction', 'Age']\n",
    "labels = df['Outcome'].values\n",
    "features = df[list(columns)].values\n",
    "\n",
    "X_train, X_test, y_train, y_test = train_test_split(features, labels, test_size=0.30)\n",
    "\n",
    "clf = RandomForestClassifier(n_estimators=6)\n",
    "clf = clf.fit(X_train, y_train)\n",
    "\n",
    "accuracy = clf.score(X_train, y_train)\n",
    "print (' اداء النموذج في عينة التدريب بدقة ', accuracy*100)\n",
    "\n",
    "accuracy = clf.score(X_test, y_test)\n",
    "print (' اداء النموذج في عينة الفحص بدقة ', accuracy*100)\n",
    "\n",
    "ypredict = clf.predict(X_train)\n",
    "print ('\\n Training classification report\\n', classification_report(y_train, ypredict))\n",
    "print (\"\\n Confusion matrix of training \\n\", confusion_matrix(y_train, ypredict))\n",
    "\n",
    "ypredict = clf.predict(X_test)\n",
    "print ('\\n Testing classification report\\n', classification_report(y_test, ypredict))\n",
    "print (\"\\n Confusion matrix of Testing \\n\", confusion_matrix(y_test, ypredict))"
   ]
  },
  {
   "cell_type": "code",
   "execution_count": null,
   "metadata": {},
   "outputs": [],
   "source": [
    "# The trining is rised(96.2756052141527), and the testing is rised(74.02597402597402).\n",
    "#Finally, we improved classifier"
   ]
  }
 ],
 "metadata": {
  "kernelspec": {
   "display_name": "Python 3",
   "language": "python",
   "name": "python3"
  },
  "language_info": {
   "codemirror_mode": {
    "name": "ipython",
    "version": 3
   },
   "file_extension": ".py",
   "mimetype": "text/x-python",
   "name": "python",
   "nbconvert_exporter": "python",
   "pygments_lexer": "ipython3",
   "version": "3.7.0"
  }
 },
 "nbformat": 4,
 "nbformat_minor": 2
}
